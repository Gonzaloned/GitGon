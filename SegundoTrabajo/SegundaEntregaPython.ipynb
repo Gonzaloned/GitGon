{
 "cells": [
  {
   "cell_type": "markdown",
   "id": "7c1ac089",
   "metadata": {},
   "source": [
    "## Programa ejercicio 10 practica 2"
   ]
  },
  {
   "cell_type": "code",
   "execution_count": null,
   "id": "d3be95bf",
   "metadata": {},
   "outputs": [],
   "source": [
    "El codigo comienza con la apertura de los archivos nombres_1, eval1 y eval2\n",
    "Los cuales son leídos y asigno sus elementos a listas correspondientes\n"
   ]
  },
  {
   "cell_type": "code",
   "execution_count": 1,
   "id": "3064f6f1",
   "metadata": {},
   "outputs": [],
   "source": [
    "archNombres = open(\"nombres_1.txt\", \"r\", encoding=\"utf-8\")\n",
    "archivo_1 = open(\"eval1.txt\", \"r\", encoding=\"utf-8\")\n",
    "archivo_2 = open(\"eval2.txt\", \"r\", encoding=\"utf-8\")\n",
    "nombres = archNombres.read().split(\",\")\n",
    "eval_1 = archivo_1.read().split(\",\")\n",
    "eval_2 = archivo_2.read().split(\",\")"
   ]
  },
  {
   "cell_type": "code",
   "execution_count": null,
   "id": "1e3977ad",
   "metadata": {},
   "outputs": [],
   "source": [
    "Como los valores en las listas eval1 y eval2 son strings, los paso a int a través de un método devolverInt()\n"
   ]
  },
  {
   "cell_type": "code",
   "execution_count": 2,
   "id": "30ba4ecc",
   "metadata": {},
   "outputs": [
    {
     "name": "stdout",
     "output_type": "stream",
     "text": [
      "Lista 1    [81, 60, 72, 24, 15, 91, 12, 70, 29, 42, 16, 3, 35, 67, 10, 57, 11, 69, 12, 77, 13, 86, 48, 65, 51, 41, 87, 43, 10, 87, 91, 15, 44, 85, 73, 37, 42, 95, 18, 7, 74, 60, 9, 65, 93, 63, 74]\n",
      "Lista 2    [30, 95, 28, 84, 84, 43, 66, 51, 4, 11, 58, 10, 13, 34, 96, 71, 86, 37, 64, 13, 8, 87, 14, 14, 49, 27, 55, 69, 77, 59, 57, 40, 96, 24, 30, 73, 95, 19, 47, 15, 31, 39, 15, 74, 33, 57, 10]\n"
     ]
    }
   ],
   "source": [
    "def devolverInt(x):\n",
    "    return (int(x.strip()))\n",
    "notas_1= list(map(devolverInt,eval_1))\n",
    "notas_2=  list(map(devolverInt,eval_2))\n",
    "print('Lista 1   ',notas_1)\n",
    "print('Lista 2   ',notas_2)"
   ]
  },
  {
   "cell_type": "markdown",
   "id": "36ae7fad",
   "metadata": {},
   "source": [
    "## Genero estructura \"suma_notas\" en la cual guardo la suma de sus notas\n",
    "Lo guardo en un diccionario recorriendo con un for\n"
   ]
  },
  {
   "cell_type": "code",
   "execution_count": 4,
   "id": "b03cf0cd",
   "metadata": {},
   "outputs": [
    {
     "name": "stdout",
     "output_type": "stream",
     "text": [
      "Valores de las sumas-----> dict_values([111, 155, 100, 108, 99, 134, 78, 121, 33, 53, 74, 13, 48, 101, 128, 106, 76, 90, 21, 62, 79, 100, 68, 112, 87, 146, 148, 55, 140, 109, 103, 110, 137, 114, 65, 22, 105, 99, 24, 139, 126, 120, 84])\n"
     ]
    }
   ],
   "source": [
    "suma_notas = {}\n",
    "for i in range(len(nombres)):\n",
    "    suma_notas[nombres[i].strip()] = (notas_1[i] + notas_2[i])\n",
    "    \n",
    "#imprimir suma valores    \n",
    "print('Valores de las sumas----->', suma_notas.values())\n"
   ]
  },
  {
   "cell_type": "markdown",
   "id": "0315eb6d",
   "metadata": {},
   "source": [
    "### Informo los nombres con nota total menor al promedio\n",
    "Calculo el promedio total de notas (Nota total / cnotas)\n"
   ]
  },
  {
   "cell_type": "code",
   "execution_count": 5,
   "id": "49df8431",
   "metadata": {},
   "outputs": [
    {
     "name": "stdout",
     "output_type": "stream",
     "text": [
      "'CESAR'\n",
      "'Diego'\n",
      "'Dolores'\n",
      "'DYLAN'\n",
      "'ELIANA'\n",
      "'Emanuel'\n",
      "'GONZALO'\n",
      "'Gregorio'\n",
      "'Ignacio'\n",
      "'Jonathan'\n",
      "'Jorge'\n",
      "'JUAN'\n",
      "'Julian'\n",
      "'Leonel'\n",
      "'Nicolás'\n",
      "'NICOLÁS'\n",
      "'Priscila'\n",
      "'Yanina'\n"
     ]
    }
   ],
   "source": [
    "promedio= sum(suma_notas.values()) / len (suma_notas)\n",
    "for x in suma_notas:\n",
    "    if(suma_notas[x]<promedio):\n",
    "        print(x)"
   ]
  },
  {
   "cell_type": "code",
   "execution_count": null,
   "id": "d0bd1557",
   "metadata": {},
   "outputs": [],
   "source": [
    "Finalmente imprimo la tabla con 'Nombre', 'Nota 1','Nota 2' y 'Total'\n"
   ]
  },
  {
   "cell_type": "code",
   "execution_count": 6,
   "id": "01b3324a",
   "metadata": {},
   "outputs": [
    {
     "name": "stdout",
     "output_type": "stream",
     "text": [
      "   Nombre         Eval1    Eval2    Total\n",
      " 0 'Agustin'       81       30       111     \n",
      " 1 'Alan'          60       95       155     \n",
      " 2 'Andrés'        72       28       100     \n",
      " 3 'Ariadna'       24       84       108     \n",
      " 4 'Bautista'      15       84       99      \n",
      " 5 'CAROLINA'      91       43       134     \n",
      " 6 'CESAR'         12       66       78      \n",
      " 7 'David'         70       51       121     \n",
      " 8 'Diego'         29       4        33      \n",
      " 9 'Dolores'       42       11       53      \n",
      "10 'DYLAN'         16       58       74      \n",
      "11 'ELIANA'        3        10       13      \n",
      "12 'Emanuel'       35       13       48      \n",
      "13 'Fabián'        67       34       101     \n",
      "14 'Facundo'       10       96       106     \n",
      "15 'FEDERICO'      57       71       128     \n",
      "16 'GONZALO'       11       86       97      \n",
      "17 'Gregorio'      69       37       106     \n",
      "18 'Ignacio'       12       64       76      \n",
      "19 'Jonathan'      77       13       90      \n",
      "20 'Jorge'         13       8        21      \n",
      "21 'JOSE'          86       87       173     \n",
      "22 'JUAN'          48       14       62      \n",
      "23 'Juan'          65       14       79      \n",
      "24 'Julian'        51       49       100     \n",
      "25 'Julieta'       41       27       68      \n",
      "26 'LAUTARO'       87       55       142     \n",
      "27 'Leonel'        43       69       112     \n",
      "28 'LUIS'          10       77       87      \n",
      "29 'Luis'          87       59       146     \n",
      "30 'Marcos'        91       57       148     \n",
      "31 'María'         15       40       55      \n",
      "32 'MATEO'         44       96       140     \n",
      "33 'Matias'        85       24       109     \n",
      "34 'Nicolás'       73       30       103     \n",
      "35 'NICOLÁS'       37       73       110     \n",
      "36 'Noelia'        42       95       137     \n",
      "37 'Pablo'         95       19       114     \n",
      "38 'Priscila'      18       47       65      \n",
      "39 'TOMAS'         7        15       22      \n",
      "40 'Tomás'         74       31       105     \n",
      "41 'Ulises'        60       39       99      \n",
      "42 'Yanina'        9        15       24      \n"
     ]
    }
   ],
   "source": [
    "print('   {:<10}  {:>8} {:>8} {:>8}'.format('Nombre', 'Eval1', 'Eval2', 'Total'))\n",
    "for i, valor in enumerate(zip(suma_notas, notas_1, notas_2)) :\n",
    "    print('{:>2} {:<15} {:<8} {:<8} {:<8}'.format(i, valor[0], valor[1], valor[2], valor[1] + valor[2]))"
   ]
  }
 ],
 "metadata": {
  "kernelspec": {
   "display_name": "Python 3 (ipykernel)",
   "language": "python",
   "name": "python3"
  },
  "language_info": {
   "codemirror_mode": {
    "name": "ipython",
    "version": 3
   },
   "file_extension": ".py",
   "mimetype": "text/x-python",
   "name": "python",
   "nbconvert_exporter": "python",
   "pygments_lexer": "ipython3",
   "version": "3.10.3"
  }
 },
 "nbformat": 4,
 "nbformat_minor": 5
}
