{
 "cells": [
  {
   "cell_type": "markdown",
   "id": "7c1ac089",
   "metadata": {},
   "source": [
    "## Programa ejercicio 10 practica 2"
   ]
  },
  {
   "cell_type": "code",
   "execution_count": null,
   "id": "d3be95bf",
   "metadata": {},
   "outputs": [],
   "source": [
    "El codigo comienza con la apertura de los archivos nombres_1, eval1 y eval2\n",
    "Los cuales son leídos y asigno sus elementos a listas correspondientes\n"
   ]
  },
  {
   "cell_type": "code",
   "execution_count": null,
   "id": "3064f6f1",
   "metadata": {},
   "outputs": [],
   "source": [
    "archNombres = open(\"nombres_1.txt\", \"r\", encoding=\"utf-8\")\n",
    "archivo_1 = open(\"eval1.txt\", \"r\", encoding=\"utf-8\")\n",
    "archivo_2 = open(\"eval2.txt\", \"r\", encoding=\"utf-8\")\n",
    "nombres = archNombres.read().split(\",\")\n",
    "eval_1 = archivo_1.read().split(\",\")\n",
    "eval_2 = archivo_2.read().split(\",\")"
   ]
  },
  {
   "cell_type": "code",
   "execution_count": null,
   "id": "1e3977ad",
   "metadata": {},
   "outputs": [],
   "source": [
    "Como los valores en las listas eval1 y eval2 son strings\n",
    "los paso a int a través de un método devolver_int()\n"
   ]
  },
  {
   "cell_type": "code",
   "execution_count": null,
   "id": "30ba4ecc",
   "metadata": {},
   "outputs": [],
   "source": [
    "def devolver_int(x):\n",
    "    return (int(x.strip()))\n",
    "notas_1= list(map(devolver_int,eval_1))\n",
    "notas_2=  list(map(devolver_int,eval_2))\n",
    "print('Lista 1   ',notas_1)\n",
    "print('Lista 2   ',notas_2)"
   ]
  },
  {
   "cell_type": "markdown",
   "id": "36ae7fad",
   "metadata": {},
   "source": [
    "## Genero estructura \"suma_notas\" en la cual guardo la suma de sus notas\n",
    "Lo guardo en un diccionario recorriendo con un for\n"
   ]
  },
  {
   "cell_type": "code",
   "execution_count": null,
   "id": "b03cf0cd",
   "metadata": {},
   "outputs": [],
   "source": [
    "suma_notas = {}\n",
    "for i in range(len(nombres)):\n",
    "    suma_notas[nombres[i].strip()] = (notas_1[i] + notas_2[i])\n",
    "    \n",
    "#imprimir suma valores    \n",
    "print('Valores de las sumas----->', suma_notas.values())\n"
   ]
  },
  {
   "cell_type": "markdown",
   "id": "0315eb6d",
   "metadata": {},
   "source": [
    "### Informo los nombres con nota total menor al promedio\n",
    "Calculo el promedio total de notas (Nota total / cnotas)\n"
   ]
  },
  {
   "cell_type": "code",
   "execution_count": null,
   "id": "49df8431",
   "metadata": {},
   "outputs": [],
   "source": [
    "promedio= sum(suma_notas.values()) / len (suma_notas)\n",
    "for x in suma_notas:\n",
    "    if(suma_notas[x]<promedio):\n",
    "        print(x)"
   ]
  },
  {
   "cell_type": "code",
   "execution_count": null,
   "id": "d0bd1557",
   "metadata": {},
   "outputs": [],
   "source": [
    "Finalmente imprimo la tabla con 'Nombre', 'Nota 1','Nota 2' y 'Total'\n"
   ]
  },
  {
   "cell_type": "code",
   "execution_count": null,
   "id": "01b3324a",
   "metadata": {},
   "outputs": [],
   "source": [
    "print('   {:<10}  {:>8} {:>8} {:>8}'.format('Nombre', 'Eval1', 'Eval2', 'Total'))\n",
    "for i, valor in enumerate(zip(suma_notas, notas_1, notas_2)) :\n",
    "    print('{:>2} {:<15} {:<8} {:<8} {:<8}'.format(i, valor[0], valor[1], valor[2], valor[1] + valor[2]))"
   ]
  }
 ],
 "metadata": {
  "kernelspec": {
   "display_name": "Python 3 (ipykernel)",
   "language": "python",
   "name": "python3"
  },
  "language_info": {
   "codemirror_mode": {
    "name": "ipython",
    "version": 3
   },
   "file_extension": ".py",
   "mimetype": "text/x-python",
   "name": "python",
   "nbconvert_exporter": "python",
   "pygments_lexer": "ipython3",
   "version": "3.10.3"
  }
 },
 "nbformat": 4,
 "nbformat_minor": 5
}
